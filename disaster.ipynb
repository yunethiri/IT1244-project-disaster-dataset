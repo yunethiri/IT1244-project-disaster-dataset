{
  "nbformat": 4,
  "nbformat_minor": 0,
  "metadata": {
    "colab": {
      "provenance": [],
      "collapsed_sections": [
        "wimZf3uEv2rf"
      ]
    },
    "kernelspec": {
      "name": "python3",
      "display_name": "Python 3"
    },
    "language_info": {
      "name": "python"
    }
  },
  "cells": [
    {
      "cell_type": "markdown",
      "source": [
        "## Part 1: Importing Data"
      ],
      "metadata": {
        "id": "I3-a1iA1symb"
      }
    },
    {
      "cell_type": "code",
      "execution_count": null,
      "metadata": {
        "id": "MlpqAcOABmNp"
      },
      "outputs": [],
      "source": [
        "import numpy as np\n",
        "import matplotlib.pyplot as plt\n",
        "import pandas as pd\n",
        "import random as rnd\n"
      ]
    },
    {
      "cell_type": "code",
      "source": [
        "filename = \"/content/data.csv\"\n",
        "disaster = pd.read_csv(filename, header = 0)"
      ],
      "metadata": {
        "id": "PINkv1NPrkB6"
      },
      "execution_count": null,
      "outputs": []
    },
    {
      "cell_type": "markdown",
      "source": [
        "## Part 2: Exploring the Dataset\n",
        "\n",
        "##### How large is the dataset?\n",
        "##### What are the features of the dataset? Are they numerical or categorical? \n",
        "##### What are the missing values?\n"
      ],
      "metadata": {
        "id": "wimZf3uEv2rf"
      }
    },
    {
      "cell_type": "code",
      "source": [
        "# to get a preliminary idea of the data\n",
        "disaster.head()"
      ],
      "metadata": {
        "colab": {
          "base_uri": "https://localhost:8080/"
        },
        "id": "VRJsf41Evybm",
        "outputId": "8a70303b-13f1-4929-e53d-f7eb3db236c1"
      },
      "execution_count": null,
      "outputs": [
        {
          "output_type": "execute_result",
          "data": {
            "text/plain": [
              "   Unnamed: 0  Id  class  num_sibling/spouse  num_parent/child      ticket  \\\n",
              "0           0   1      3                   1                 0  CUGSP1ULC1   \n",
              "1           1   2      1                   1                 0  RWKPI7Y5RI   \n",
              "2           2   3      3                   0                 0  DTHA121ED6   \n",
              "3           3   4      1                   1                 0  B46YX3C4TM   \n",
              "4           4   5      3                   0                 0  YJKMT1KA7C   \n",
              "\n",
              "     price  Seat departure_from  gender  alive   age  \n",
              "0   7.2500   NaN              S    male      0  22.0  \n",
              "1  71.2833   C85              C  female      1  38.0  \n",
              "2   7.9250   NaN              S  female      1  26.0  \n",
              "3  53.1000  C123              S  female      1  35.0  \n",
              "4   8.0500   NaN              S    male      0  35.0  "
            ],
            "text/html": [
              "\n",
              "  <div id=\"df-db8fcd69-2295-4994-af82-d014df6f87f4\">\n",
              "    <div class=\"colab-df-container\">\n",
              "      <div>\n",
              "<style scoped>\n",
              "    .dataframe tbody tr th:only-of-type {\n",
              "        vertical-align: middle;\n",
              "    }\n",
              "\n",
              "    .dataframe tbody tr th {\n",
              "        vertical-align: top;\n",
              "    }\n",
              "\n",
              "    .dataframe thead th {\n",
              "        text-align: right;\n",
              "    }\n",
              "</style>\n",
              "<table border=\"1\" class=\"dataframe\">\n",
              "  <thead>\n",
              "    <tr style=\"text-align: right;\">\n",
              "      <th></th>\n",
              "      <th>Unnamed: 0</th>\n",
              "      <th>Id</th>\n",
              "      <th>class</th>\n",
              "      <th>num_sibling/spouse</th>\n",
              "      <th>num_parent/child</th>\n",
              "      <th>ticket</th>\n",
              "      <th>price</th>\n",
              "      <th>Seat</th>\n",
              "      <th>departure_from</th>\n",
              "      <th>gender</th>\n",
              "      <th>alive</th>\n",
              "      <th>age</th>\n",
              "    </tr>\n",
              "  </thead>\n",
              "  <tbody>\n",
              "    <tr>\n",
              "      <th>0</th>\n",
              "      <td>0</td>\n",
              "      <td>1</td>\n",
              "      <td>3</td>\n",
              "      <td>1</td>\n",
              "      <td>0</td>\n",
              "      <td>CUGSP1ULC1</td>\n",
              "      <td>7.2500</td>\n",
              "      <td>NaN</td>\n",
              "      <td>S</td>\n",
              "      <td>male</td>\n",
              "      <td>0</td>\n",
              "      <td>22.0</td>\n",
              "    </tr>\n",
              "    <tr>\n",
              "      <th>1</th>\n",
              "      <td>1</td>\n",
              "      <td>2</td>\n",
              "      <td>1</td>\n",
              "      <td>1</td>\n",
              "      <td>0</td>\n",
              "      <td>RWKPI7Y5RI</td>\n",
              "      <td>71.2833</td>\n",
              "      <td>C85</td>\n",
              "      <td>C</td>\n",
              "      <td>female</td>\n",
              "      <td>1</td>\n",
              "      <td>38.0</td>\n",
              "    </tr>\n",
              "    <tr>\n",
              "      <th>2</th>\n",
              "      <td>2</td>\n",
              "      <td>3</td>\n",
              "      <td>3</td>\n",
              "      <td>0</td>\n",
              "      <td>0</td>\n",
              "      <td>DTHA121ED6</td>\n",
              "      <td>7.9250</td>\n",
              "      <td>NaN</td>\n",
              "      <td>S</td>\n",
              "      <td>female</td>\n",
              "      <td>1</td>\n",
              "      <td>26.0</td>\n",
              "    </tr>\n",
              "    <tr>\n",
              "      <th>3</th>\n",
              "      <td>3</td>\n",
              "      <td>4</td>\n",
              "      <td>1</td>\n",
              "      <td>1</td>\n",
              "      <td>0</td>\n",
              "      <td>B46YX3C4TM</td>\n",
              "      <td>53.1000</td>\n",
              "      <td>C123</td>\n",
              "      <td>S</td>\n",
              "      <td>female</td>\n",
              "      <td>1</td>\n",
              "      <td>35.0</td>\n",
              "    </tr>\n",
              "    <tr>\n",
              "      <th>4</th>\n",
              "      <td>4</td>\n",
              "      <td>5</td>\n",
              "      <td>3</td>\n",
              "      <td>0</td>\n",
              "      <td>0</td>\n",
              "      <td>YJKMT1KA7C</td>\n",
              "      <td>8.0500</td>\n",
              "      <td>NaN</td>\n",
              "      <td>S</td>\n",
              "      <td>male</td>\n",
              "      <td>0</td>\n",
              "      <td>35.0</td>\n",
              "    </tr>\n",
              "  </tbody>\n",
              "</table>\n",
              "</div>\n",
              "      <button class=\"colab-df-convert\" onclick=\"convertToInteractive('df-db8fcd69-2295-4994-af82-d014df6f87f4')\"\n",
              "              title=\"Convert this dataframe to an interactive table.\"\n",
              "              style=\"display:none;\">\n",
              "        \n",
              "  <svg xmlns=\"http://www.w3.org/2000/svg\" height=\"24px\"viewBox=\"0 0 24 24\"\n",
              "       width=\"24px\">\n",
              "    <path d=\"M0 0h24v24H0V0z\" fill=\"none\"/>\n",
              "    <path d=\"M18.56 5.44l.94 2.06.94-2.06 2.06-.94-2.06-.94-.94-2.06-.94 2.06-2.06.94zm-11 1L8.5 8.5l.94-2.06 2.06-.94-2.06-.94L8.5 2.5l-.94 2.06-2.06.94zm10 10l.94 2.06.94-2.06 2.06-.94-2.06-.94-.94-2.06-.94 2.06-2.06.94z\"/><path d=\"M17.41 7.96l-1.37-1.37c-.4-.4-.92-.59-1.43-.59-.52 0-1.04.2-1.43.59L10.3 9.45l-7.72 7.72c-.78.78-.78 2.05 0 2.83L4 21.41c.39.39.9.59 1.41.59.51 0 1.02-.2 1.41-.59l7.78-7.78 2.81-2.81c.8-.78.8-2.07 0-2.86zM5.41 20L4 18.59l7.72-7.72 1.47 1.35L5.41 20z\"/>\n",
              "  </svg>\n",
              "      </button>\n",
              "      \n",
              "  <style>\n",
              "    .colab-df-container {\n",
              "      display:flex;\n",
              "      flex-wrap:wrap;\n",
              "      gap: 12px;\n",
              "    }\n",
              "\n",
              "    .colab-df-convert {\n",
              "      background-color: #E8F0FE;\n",
              "      border: none;\n",
              "      border-radius: 50%;\n",
              "      cursor: pointer;\n",
              "      display: none;\n",
              "      fill: #1967D2;\n",
              "      height: 32px;\n",
              "      padding: 0 0 0 0;\n",
              "      width: 32px;\n",
              "    }\n",
              "\n",
              "    .colab-df-convert:hover {\n",
              "      background-color: #E2EBFA;\n",
              "      box-shadow: 0px 1px 2px rgba(60, 64, 67, 0.3), 0px 1px 3px 1px rgba(60, 64, 67, 0.15);\n",
              "      fill: #174EA6;\n",
              "    }\n",
              "\n",
              "    [theme=dark] .colab-df-convert {\n",
              "      background-color: #3B4455;\n",
              "      fill: #D2E3FC;\n",
              "    }\n",
              "\n",
              "    [theme=dark] .colab-df-convert:hover {\n",
              "      background-color: #434B5C;\n",
              "      box-shadow: 0px 1px 3px 1px rgba(0, 0, 0, 0.15);\n",
              "      filter: drop-shadow(0px 1px 2px rgba(0, 0, 0, 0.3));\n",
              "      fill: #FFFFFF;\n",
              "    }\n",
              "  </style>\n",
              "\n",
              "      <script>\n",
              "        const buttonEl =\n",
              "          document.querySelector('#df-db8fcd69-2295-4994-af82-d014df6f87f4 button.colab-df-convert');\n",
              "        buttonEl.style.display =\n",
              "          google.colab.kernel.accessAllowed ? 'block' : 'none';\n",
              "\n",
              "        async function convertToInteractive(key) {\n",
              "          const element = document.querySelector('#df-db8fcd69-2295-4994-af82-d014df6f87f4');\n",
              "          const dataTable =\n",
              "            await google.colab.kernel.invokeFunction('convertToInteractive',\n",
              "                                                     [key], {});\n",
              "          if (!dataTable) return;\n",
              "\n",
              "          const docLinkHtml = 'Like what you see? Visit the ' +\n",
              "            '<a target=\"_blank\" href=https://colab.research.google.com/notebooks/data_table.ipynb>data table notebook</a>'\n",
              "            + ' to learn more about interactive tables.';\n",
              "          element.innerHTML = '';\n",
              "          dataTable['output_type'] = 'display_data';\n",
              "          await google.colab.output.renderOutput(dataTable, element);\n",
              "          const docLink = document.createElement('div');\n",
              "          docLink.innerHTML = docLinkHtml;\n",
              "          element.appendChild(docLink);\n",
              "        }\n",
              "      </script>\n",
              "    </div>\n",
              "  </div>\n",
              "  "
            ]
          },
          "metadata": {},
          "execution_count": 122
        }
      ]
    },
    {
      "cell_type": "code",
      "source": [
        "# to understand the size of the dataset\n",
        "disaster.count() #866 rows"
      ],
      "metadata": {
        "id": "cAxVnyoOzIts",
        "colab": {
          "base_uri": "https://localhost:8080/"
        },
        "outputId": "c683aed7-ca6a-4520-9ca9-d2b5d1a334f1"
      },
      "execution_count": null,
      "outputs": [
        {
          "output_type": "execute_result",
          "data": {
            "text/plain": [
              "Unnamed: 0            866\n",
              "Id                    866\n",
              "class                 866\n",
              "num_sibling/spouse    866\n",
              "num_parent/child      866\n",
              "ticket                866\n",
              "price                 866\n",
              "Seat                  198\n",
              "departure_from        864\n",
              "gender                866\n",
              "alive                 866\n",
              "age                   692\n",
              "dtype: int64"
            ]
          },
          "metadata": {},
          "execution_count": 123
        }
      ]
    },
    {
      "cell_type": "code",
      "source": [
        "# explore which features contain missing values\n",
        "disaster.isnull().sum()"
      ],
      "metadata": {
        "id": "aMc9cFdRuLwU",
        "colab": {
          "base_uri": "https://localhost:8080/"
        },
        "outputId": "9d274e46-ebcb-4199-eccd-4c9bb407228f"
      },
      "execution_count": null,
      "outputs": [
        {
          "output_type": "execute_result",
          "data": {
            "text/plain": [
              "Unnamed: 0              0\n",
              "Id                      0\n",
              "class                   0\n",
              "num_sibling/spouse      0\n",
              "num_parent/child        0\n",
              "ticket                  0\n",
              "price                   0\n",
              "Seat                  668\n",
              "departure_from          2\n",
              "gender                  0\n",
              "alive                   0\n",
              "age                   174\n",
              "dtype: int64"
            ]
          },
          "metadata": {},
          "execution_count": 124
        }
      ]
    },
    {
      "cell_type": "markdown",
      "source": [
        "Correlation HeatMap - To understand the correlation between the features\n"
      ],
      "metadata": {
        "id": "hxuRmUh0KaIM"
      }
    },
    {
      "cell_type": "code",
      "source": [
        "import seaborn as sn\n",
        "import matplotlib.pyplot as plt\n",
        "\n",
        "# creating correlation matrix\n",
        "corr_matrix = disaster.corr()\n",
        "\n",
        "# visualising it\n",
        "sn.heatmap(corr_matrix, annot = True)\n",
        "plt.show()\n"
      ],
      "metadata": {
        "id": "W8z6jL-P8Vu-",
        "colab": {
          "base_uri": "https://localhost:8080/"
        },
        "outputId": "8653927e-d135-49ae-a1ab-60c62560e787"
      },
      "execution_count": null,
      "outputs": [
        {
          "output_type": "display_data",
          "data": {
            "text/plain": [
              "<Figure size 432x288 with 2 Axes>"
            ],
            "image/png": "[encoded data removed]"
          },
          "metadata": {
            "needs_background": "light"
          }
        }
      ]
    },
    {
      "cell_type": "markdown",
      "source": [
        "## Part 3: Data Cleaning\n",
        "\n",
        "##### Code for data cleaning adapted from https://www.kaggle.com/code/startupsci/titanic-data-science-solutions\n"
      ],
      "metadata": {
        "id": "V5xqhKZixyQz"
      }
    },
    {
      "cell_type": "markdown",
      "source": [
        "##### After exploring the dataset, we decided to drop the \"Seat\" feature as it has too many missing values which cannot be predicted by a trend. We also dropped the unnamed first column, the id column and the ticket column as they are not useful to our analysis. "
      ],
      "metadata": {
        "id": "vgNw1EL-w5LP"
      }
    },
    {
      "cell_type": "code",
      "source": [
        "disaster.drop('Seat',axis =1, inplace = True)\n",
        "disaster.isnull().sum() # check that we have dropped the \"Seat\" feature"
      ],
      "metadata": {
        "colab": {
          "base_uri": "https://localhost:8080/"
        },
        "id": "5oeuzj7ywmHA",
        "outputId": "8ff23b5a-0cc6-4986-ecaa-074080a06869"
      },
      "execution_count": null,
      "outputs": [
        {
          "output_type": "execute_result",
          "data": {
            "text/plain": [
              "Unnamed: 0              0\n",
              "Id                      0\n",
              "class                   0\n",
              "num_sibling/spouse      0\n",
              "num_parent/child        0\n",
              "ticket                  0\n",
              "price                   0\n",
              "departure_from          2\n",
              "gender                  0\n",
              "alive                   0\n",
              "age                   174\n",
              "dtype: int64"
            ]
          },
          "metadata": {},
          "execution_count": 126
        }
      ]
    },
    {
      "cell_type": "markdown",
      "source": [
        "##### We also dropped the 'price' column as there is double weightage on class/price of ticket.\n"
      ],
      "metadata": {
        "id": "qZA6Y9EW9yRz"
      }
    },
    {
      "cell_type": "code",
      "source": [
        "disaster.drop('Unnamed: 0',axis =1, inplace = True)\n",
        "disaster.drop('Id',axis =1, inplace = True)\n",
        "disaster.drop('ticket',axis =1, inplace = True)\n",
        "\n",
        "disaster.drop('price',axis =1, inplace = True) # rationale for dropping price - not independent with the 'class'"
      ],
      "metadata": {
        "id": "GTx6NgW03Bm0"
      },
      "execution_count": null,
      "outputs": []
    },
    {
      "cell_type": "markdown",
      "source": [
        "##### We observed that \"departure_from\" and \"age\" features also have missing values. However, we hypothesised that these features are essential to our analysis. Thus, we cleaned the data and filled in the missing values for these features via prediction based on the existing values."
      ],
      "metadata": {
        "id": "3vm9BVV9xWIP"
      }
    },
    {
      "cell_type": "code",
      "source": [
        "# fill in the missing values for \"departure_from\"\n",
        "freqDeparture = disaster.departure_from.dropna().mode()[0] # take the mode of the existing values\n",
        "disaster['departure_from'] = disaster['departure_from'].fillna(freqDeparture) # fill in the two missing values with the mode\n"
      ],
      "metadata": {
        "id": "n6FAmvpXysGZ"
      },
      "execution_count": null,
      "outputs": []
    },
    {
      "cell_type": "code",
      "source": [
        "# fill in the missing values for \"age\"\n",
        "\n",
        "age_mean = disaster.age.dropna().mean() # calculate the mean of the existing values\n",
        "age_SD = disaster.age.dropna().std() # calculate the standard deviation of the existing values\n",
        "# loop through all the missing values, from exploring the data, we observed that there were 174 missing values for \"age\"\n",
        "# at each missing value, generate a random integer between the mean and standard deviation\n",
        "# fill in this missing value with the integer generated\n",
        "for i in range(174):\n",
        "  random_age = rnd.randint(round(age_mean-age_SD),round(age_mean+age_SD))\n",
        "  disaster['age'] = disaster['age'].fillna(random_age, limit=1)"
      ],
      "metadata": {
        "id": "yKBPOVHb2Y1s"
      },
      "execution_count": null,
      "outputs": []
    },
    {
      "cell_type": "code",
      "source": [
        "# check that the \"age\" feature has been cleaned correctly with the missing values filled in \n",
        "disaster.age.value_counts()"
      ],
      "metadata": {
        "id": "WsMfjo_I4iCn",
        "colab": {
          "base_uri": "https://localhost:8080/"
        },
        "outputId": "e6dd110a-8fd8-4f02-d372-fc32d8e945a4"
      },
      "execution_count": null,
      "outputs": [
        {
          "output_type": "execute_result",
          "data": {
            "text/plain": [
              "18.0    35\n",
              "30.0    34\n",
              "28.0    32\n",
              "22.0    31\n",
              "24.0    31\n",
              "        ..\n",
              "20.5     1\n",
              "14.5     1\n",
              "70.5     1\n",
              "55.5     1\n",
              "74.0     1\n",
              "Name: age, Length: 88, dtype: int64"
            ]
          },
          "metadata": {},
          "execution_count": 130
        }
      ]
    },
    {
      "cell_type": "markdown",
      "source": [
        "##### We converted the categorical features (gender and departure_from) into numerical values."
      ],
      "metadata": {
        "id": "C6kLtHco0nXM"
      }
    },
    {
      "cell_type": "code",
      "source": [
        "# deal with the categorical features \n",
        "disaster['gender'] = disaster['gender'].map({'female':1, 'male': 0}).astype(int)\n",
        "disaster['departure_from'] = disaster['departure_from'].map({'Q': 2, 'C':1, 'S': 0}).astype(int)"
      ],
      "metadata": {
        "id": "BoDO5oUe0hhF"
      },
      "execution_count": null,
      "outputs": []
    },
    {
      "cell_type": "markdown",
      "source": [
        "## Part 4: Splitting the dataset\n",
        "\n"
      ],
      "metadata": {
        "id": "YOclqJ2ay-sS"
      }
    },
    {
      "cell_type": "markdown",
      "source": [
        "##### From exploring the data, we identify that we want to predict whether an individual survives or not based on their other features (such as gender, age, class etc.). Thus, we will split our dataset into our X (all features apart from \"alive\") and our y (\"alive\"). y can take on values of either 0 or 1. "
      ],
      "metadata": {
        "id": "FgsGvr9f4umA"
      }
    },
    {
      "cell_type": "code",
      "source": [
        "xvals = disaster.drop(\"alive\", axis = 1)\n",
        "yvals = disaster[\"alive\"]\n",
        "xvals.shape, yvals.shape"
      ],
      "metadata": {
        "colab": {
          "base_uri": "https://localhost:8080/"
        },
        "id": "qUsA220QEdxV",
        "outputId": "1560676d-4685-479a-a5ab-9ca997065eb9"
      },
      "execution_count": null,
      "outputs": [
        {
          "output_type": "execute_result",
          "data": {
            "text/plain": [
              "((866, 6), (866,))"
            ]
          },
          "metadata": {},
          "execution_count": 132
        }
      ]
    },
    {
      "cell_type": "code",
      "source": [
        "# split the dataset into training set and testing set using train-and-test split method \n",
        "from sklearn.model_selection import train_test_split \n",
        "xtrain, xtest, ytrain, ytest = train_test_split(xvals, yvals, test_size = 0.2, random_state = 0)\n",
        "xtrain.shape, xtest.shape, ytrain.shape, ytest.shape"
      ],
      "metadata": {
        "colab": {
          "base_uri": "https://localhost:8080/"
        },
        "id": "klqhQc-XEWZ8",
        "outputId": "5a08ac4d-0b9d-449a-d98c-ee98260efb0c"
      },
      "execution_count": null,
      "outputs": [
        {
          "output_type": "execute_result",
          "data": {
            "text/plain": [
              "((692, 6), (174, 6), (692,), (174,))"
            ]
          },
          "metadata": {},
          "execution_count": 133
        }
      ]
    },
    {
      "cell_type": "code",
      "source": [
        "# standardizing the training and testing data\n",
        "from sklearn.preprocessing import StandardScaler\n",
        "std_x = StandardScaler()\n",
        "xtrain = std_x.fit_transform(xtrain)\n",
        "xtest = std_x.transform(xtest)"
      ],
      "metadata": {
        "id": "Ci6AQ2PAFBzE"
      },
      "execution_count": null,
      "outputs": []
    },
    {
      "cell_type": "markdown",
      "source": [
        "## Part 5: Training the model and Predicting"
      ],
      "metadata": {
        "id": "vkijWkkO9VrV"
      }
    },
    {
      "cell_type": "markdown",
      "source": [
        "### Part 5.1: Logistic Regression "
      ],
      "metadata": {
        "id": "z8aVATUiGG8N"
      }
    },
    {
      "cell_type": "code",
      "source": [
        "# using Logistic regression from sklearn library \n",
        "from sklearn.linear_model import LogisticRegression\n",
        "model_log = LogisticRegression()\n",
        "\n",
        "# fit the parameter to get the parameters\n",
        "model_log.fit(xtrain, ytrain)\n",
        "\n",
        "# output predicted by classifier for xtest data\n",
        "y_pred_lr = model_log.predict(xtest)"
      ],
      "metadata": {
        "id": "s-04wsnpGi29"
      },
      "execution_count": null,
      "outputs": []
    },
    {
      "cell_type": "code",
      "source": [
        "# calculate accuracy of model \n",
        "from sklearn.metrics import accuracy_score \n",
        "accuracy_log = accuracy_score(ytest, y_pred_lr)\n",
        "print(\"Accuracy for Logistic Regression: \", round(accuracy_log*100,2))"
      ],
      "metadata": {
        "colab": {
          "base_uri": "https://localhost:8080/"
        },
        "id": "RdQPCCbIHntX",
        "outputId": "fecd52af-46a7-4053-c38d-a12d4c530649"
      },
      "execution_count": null,
      "outputs": [
        {
          "output_type": "stream",
          "name": "stdout",
          "text": [
            "Accuracy for Logistic Regression:  80.46\n"
          ]
        }
      ]
    },
    {
      "cell_type": "markdown",
      "source": [
        "##### Code for k-fold cross validation adapted from https://www.kaggle.com/code/vinothan/titanic-model-with-90-accuracy"
      ],
      "metadata": {
        "id": "degzGy0sSQTh"
      }
    },
    {
      "cell_type": "code",
      "source": [
        "# k-fold cross validation \n",
        "from sklearn.model_selection import KFold \n",
        "from sklearn.model_selection import cross_val_score \n",
        "from sklearn.model_selection import cross_val_predict \n",
        "kfold = KFold(n_splits = 5, random_state = 0, shuffle = True) # k=5, split the data into 5 equal parts\n",
        "score_lr = cross_val_score(model_log, xvals, yvals, scoring='accuracy')\n",
        "print('Cross validated score for Logistic Regression:', round(score_lr.mean()*100,2))\n",
        "y_pred = cross_val_predict(model_log, xvals, yvals)"
      ],
      "metadata": {
        "colab": {
          "base_uri": "https://localhost:8080/"
        },
        "id": "fbCUMDo9_Deq",
        "outputId": "200ecfd0-e0dc-43b9-a87e-39cba9fc8376"
      },
      "execution_count": null,
      "outputs": [
        {
          "output_type": "stream",
          "name": "stdout",
          "text": [
            "Cross validated score for Logistic Regression: 78.41\n"
          ]
        }
      ]
    },
    {
      "cell_type": "code",
      "source": [
        "# confusion matrix \n",
        "from sklearn.metrics import confusion_matrix\n",
        "cm_lr = confusion_matrix(ytest, y_pred_lr)\n",
        "\n",
        "print(\"Confusion Matrix: \\n\", cm_lr)"
      ],
      "metadata": {
        "colab": {
          "base_uri": "https://localhost:8080/"
        },
        "id": "Tja5fCFrHTdV",
        "outputId": "b6b3d442-3db2-4833-fc32-51500ead8069"
      },
      "execution_count": null,
      "outputs": [
        {
          "output_type": "stream",
          "name": "stdout",
          "text": [
            "Confusion Matrix: \n",
            " [[87 17]\n",
            " [17 53]]\n"
          ]
        }
      ]
    },
    {
      "cell_type": "code",
      "source": [
        "# classification report \n",
        "from sklearn.metrics import classification_report\n",
        "target_names = ['not alive', 'alive']\n",
        "cr_lr = classification_report(ytest, y_pred_lr, target_names=target_names)\n",
        "\n",
        "print(\"Classification Report: \\n\", cr_lr)"
      ],
      "metadata": {
        "colab": {
          "base_uri": "https://localhost:8080/"
        },
        "id": "WNLuZtLE-MQu",
        "outputId": "d3668473-7331-4971-ee7a-314e2dafbd97"
      },
      "execution_count": null,
      "outputs": [
        {
          "output_type": "stream",
          "name": "stdout",
          "text": [
            "Classification Report: \n",
            "               precision    recall  f1-score   support\n",
            "\n",
            "   not alive       0.84      0.84      0.84       104\n",
            "       alive       0.76      0.76      0.76        70\n",
            "\n",
            "    accuracy                           0.80       174\n",
            "   macro avg       0.80      0.80      0.80       174\n",
            "weighted avg       0.80      0.80      0.80       174\n",
            "\n"
          ]
        }
      ]
    },
    {
      "cell_type": "markdown",
      "source": [
        "\n",
        "### Part 5.2: KNN Classifier\n",
        "\n",
        "##### Code for find best k-value algorithm adapted from https://medium.com/geekculture/applying-7-classification-algorithms-on-the-titanic-dataset-278ef222b53c"
      ],
      "metadata": {
        "id": "eyW7YEdQLJiL"
      }
    },
    {
      "cell_type": "code",
      "source": [
        "from sklearn.neighbors import KNeighborsClassifier\n",
        "from sklearn.metrics import accuracy_score \n",
        "\n",
        "# choosing the k-value\n",
        "acc = []\n",
        "\n",
        "# loop through k-values from 1 to 25 and test their accuracy\n",
        "# we will choose the k-value that gives us the best accuracy \n",
        "for i in range(1,26):\n",
        "  knn = KNeighborsClassifier(n_neighbors = i)\n",
        "  knn.fit(xtrain, ytrain)\n",
        "  y_pred = knn.predict(xtest)\n",
        "  acc.append(accuracy_score(ytest, y_pred))\n",
        "\n",
        "highest_acc = max(acc)\n",
        "best_k = acc.index(highest_acc) + 1\n",
        "\n",
        "# visualise which is the best k-value by plotting a line graph\n",
        "plt.figure(figsize=(8,6))\n",
        "plt.plot(range(1,26),acc, marker = \"o\")\n",
        "plt.xlabel(\"k-value\")\n",
        "plt.ylabel(\"Accuracy\")\n",
        "plt.xticks(range(1,26))\n",
        "plt.show()"
      ],
      "metadata": {
        "id": "7ImtjPVBN1fR",
        "colab": {
          "base_uri": "https://localhost:8080/",
          "height": 388
        },
        "outputId": "440754d3-ec22-4cbf-9aaf-c1dfd41e70d2"
      },
      "execution_count": null,
      "outputs": [
        {
          "output_type": "display_data",
          "data": {
            "text/plain": [
              "<Figure size 576x432 with 1 Axes>"
            ],
            "image/png": "[encoded data removed]"
          },
          "metadata": {
            "needs_background": "light"
          }
        }
      ]
    },
    {
      "cell_type": "markdown",
      "source": [
        "By running the above, we can determine the best k-value each time, updating this value constantly. We will then use this best k-value generated to fit our knn model. "
      ],
      "metadata": {
        "id": "Yd6jPgpgQJxf"
      }
    },
    {
      "cell_type": "code",
      "source": [
        "# fit the model with training data\n",
        "knn = KNeighborsClassifier(n_neighbors = best_k)\n",
        "knn.fit(xtrain, ytrain)\n",
        "\n",
        "# output predicted by classifier for xtest data\n",
        "y_pred_knn = knn.predict(xtest)"
      ],
      "metadata": {
        "id": "yl40AhobLP_v"
      },
      "execution_count": null,
      "outputs": []
    },
    {
      "cell_type": "code",
      "source": [
        "# calculate accuracy of model\n",
        "accuracy_knn = accuracy_score(ytest, y_pred_knn)\n",
        "print(\"Accuracy for KNN: \", round(accuracy_knn*100,2))"
      ],
      "metadata": {
        "id": "-F74Qm76MOkW",
        "colab": {
          "base_uri": "https://localhost:8080/"
        },
        "outputId": "afe4377d-250c-4f57-9ff8-77ad94aa19a8"
      },
      "execution_count": null,
      "outputs": [
        {
          "output_type": "stream",
          "name": "stdout",
          "text": [
            "Accuracy for KNN:  83.91\n"
          ]
        }
      ]
    },
    {
      "cell_type": "code",
      "source": [
        "# k-fold cross validation \n",
        "from sklearn.model_selection import KFold \n",
        "from sklearn.model_selection import cross_val_score \n",
        "from sklearn.model_selection import cross_val_predict \n",
        "kfold = KFold(n_splits = 5, random_state = 0, shuffle = True) # k=5, split the data into 5 equal parts\n",
        "score_knn = cross_val_score(knn, xvals, yvals, scoring='accuracy')\n",
        "print('Cross validated score for KNN:', round(score_knn.mean()*100,2))\n",
        "y_pred = cross_val_predict(knn, xvals, yvals)"
      ],
      "metadata": {
        "colab": {
          "base_uri": "https://localhost:8080/"
        },
        "id": "tWSePMnW4fjR",
        "outputId": "ef0da14f-ecb3-402c-92bf-f52d59136f83"
      },
      "execution_count": null,
      "outputs": [
        {
          "output_type": "stream",
          "name": "stdout",
          "text": [
            "Cross validated score for KNN: 72.29\n"
          ]
        }
      ]
    },
    {
      "cell_type": "code",
      "source": [
        "# confusion matrix \n",
        "from sklearn.metrics import confusion_matrix\n",
        "cm_knn = confusion_matrix(ytest, y_pred_knn)\n",
        "\n",
        "print(\"Confusion Matrix: \\n\", cm_knn)"
      ],
      "metadata": {
        "colab": {
          "base_uri": "https://localhost:8080/"
        },
        "id": "OviuL9urPKcm",
        "outputId": "eb9ed1c7-ddc4-4517-c121-a35c93c0d867"
      },
      "execution_count": null,
      "outputs": [
        {
          "output_type": "stream",
          "name": "stdout",
          "text": [
            "Confusion Matrix: \n",
            " [[94 10]\n",
            " [18 52]]\n"
          ]
        }
      ]
    },
    {
      "cell_type": "code",
      "source": [
        "# classification report \n",
        "from sklearn.metrics import classification_report\n",
        "target_names = ['not alive', 'alive']\n",
        "cr_knn = classification_report(ytest, y_pred_knn, target_names=target_names)\n",
        "\n",
        "print(\"Classification Report: \\n\", cr_knn)"
      ],
      "metadata": {
        "id": "duweUVbU_g-q",
        "colab": {
          "base_uri": "https://localhost:8080/"
        },
        "outputId": "0137cbf0-1d6f-45b8-fd96-178b74631764"
      },
      "execution_count": null,
      "outputs": [
        {
          "output_type": "stream",
          "name": "stdout",
          "text": [
            "Classification Report: \n",
            "               precision    recall  f1-score   support\n",
            "\n",
            "   not alive       0.84      0.90      0.87       104\n",
            "       alive       0.84      0.74      0.79        70\n",
            "\n",
            "    accuracy                           0.84       174\n",
            "   macro avg       0.84      0.82      0.83       174\n",
            "weighted avg       0.84      0.84      0.84       174\n",
            "\n"
          ]
        }
      ]
    },
    {
      "cell_type": "markdown",
      "source": [
        "### Part 5.3: Decision Trees"
      ],
      "metadata": {
        "id": "aNiR0K6IGb3q"
      }
    },
    {
      "cell_type": "code",
      "source": [
        "from io import StringIO\n",
        "import pydotplus\n",
        "from sklearn import tree\n",
        "from PIL import Image \n",
        "\n",
        "\n",
        "clf_entropy = tree.DecisionTreeClassifier(criterion='entropy', random_state = 19)\n",
        "clf_entropy.fit(xtrain, ytrain)\n",
        "clf_entropy.score(xtest,ytest)\n",
        "\n",
        "out = StringIO()\n",
        "tree.export_graphviz(clf_entropy, out_file = out)\n",
        "#image = pydotplus.graph_from_dot_data(out.getvalue())\n",
        "#image.write_png('titanic4.png')\n",
        "#img = Image.open('titanic4.png')\n",
        "#img.show()\n",
        "#disaster.head()\n",
        "y_pred_dtree = clf_entropy.predict(xtest)\n",
        "accuracy_dtree = accuracy_score(y_pred_dtree,ytest)\n",
        "print(\"Accuracy for Decision Tree: \", round(accuracy_dtree*100,2))\n"
      ],
      "metadata": {
        "id": "zixMvqsbGedM",
        "colab": {
          "base_uri": "https://localhost:8080/"
        },
        "outputId": "2189879a-1825-4f26-b9f1-a44dd1cf82dd"
      },
      "execution_count": null,
      "outputs": [
        {
          "output_type": "stream",
          "name": "stdout",
          "text": [
            "Accuracy for Decision Tree:  75.86\n"
          ]
        }
      ]
    },
    {
      "cell_type": "code",
      "source": [
        "# k-fold cross validation \n",
        "from sklearn.model_selection import KFold \n",
        "from sklearn.model_selection import cross_val_score \n",
        "from sklearn.model_selection import cross_val_predict \n",
        "kfold = KFold(n_splits = 5) # k=5, split the data into 5 equal parts\n",
        "score_tree = cross_val_score(clf_entropy, xvals, yvals, scoring='accuracy')\n",
        "print('Cross validated score for Decision Tree:', round(score_tree.mean()*100,2))\n",
        "y_pred = cross_val_predict(clf_entropy, xvals, yvals)"
      ],
      "metadata": {
        "colab": {
          "base_uri": "https://localhost:8080/"
        },
        "id": "gqmDn725Ekeq",
        "outputId": "d3c978df-2fd6-4898-cdab-b823b37e7057"
      },
      "execution_count": null,
      "outputs": [
        {
          "output_type": "stream",
          "name": "stdout",
          "text": [
            "Cross validated score for Decision Tree: 78.07\n"
          ]
        }
      ]
    },
    {
      "cell_type": "code",
      "source": [
        "# confusion matrix \n",
        "from sklearn.metrics import confusion_matrix\n",
        "cm_dtree = confusion_matrix(ytest, y_pred_dtree)\n",
        "\n",
        "print(\"Confusion Matrix: \\n\", cm_dtree)"
      ],
      "metadata": {
        "colab": {
          "base_uri": "https://localhost:8080/"
        },
        "id": "u-_Ek1u8PWD3",
        "outputId": "482c9338-e874-4406-a36b-4741f15e4664"
      },
      "execution_count": null,
      "outputs": [
        {
          "output_type": "stream",
          "name": "stdout",
          "text": [
            "Confusion Matrix: \n",
            " [[83 21]\n",
            " [21 49]]\n"
          ]
        }
      ]
    },
    {
      "cell_type": "code",
      "source": [
        "# classification report \n",
        "from sklearn.metrics import classification_report\n",
        "target_names = ['not alive', 'alive']\n",
        "cr_dtree = classification_report(ytest, y_pred_dtree, target_names=target_names)\n",
        "\n",
        "print(\"Classification Report: \\n\", cr_dtree)"
      ],
      "metadata": {
        "id": "VqxcUj4T_s8p",
        "colab": {
          "base_uri": "https://localhost:8080/"
        },
        "outputId": "390937ce-6fe9-410f-be48-0c6a86f77a90"
      },
      "execution_count": null,
      "outputs": [
        {
          "output_type": "stream",
          "name": "stdout",
          "text": [
            "Classification Report: \n",
            "               precision    recall  f1-score   support\n",
            "\n",
            "   not alive       0.80      0.80      0.80       104\n",
            "       alive       0.70      0.70      0.70        70\n",
            "\n",
            "    accuracy                           0.76       174\n",
            "   macro avg       0.75      0.75      0.75       174\n",
            "weighted avg       0.76      0.76      0.76       174\n",
            "\n"
          ]
        }
      ]
    },
    {
      "cell_type": "markdown",
      "source": [
        "### Part 5.4: Neutral Networks\n",
        "\n",
        "##### Code adapted from https://www.kaggle.com/code/theblackmamba31/titanic-tutorial-neural-network"
      ],
      "metadata": {
        "id": "alNv1OG34uUY"
      }
    },
    {
      "cell_type": "code",
      "source": [
        "# Importing the Keras main module forcing tensorflow 1.x backend\n",
        "import keras\n",
        "import tensorflow as tf\n",
        "from keras.models import Sequential\n",
        "from keras.layers import Dense, Activation, Flatten, Input, Dropout"
      ],
      "metadata": {
        "id": "F66aqGW842h8"
      },
      "execution_count": null,
      "outputs": []
    },
    {
      "cell_type": "code",
      "source": [
        "model = Sequential()\n",
        "\n",
        "model.add(Input(shape = (6,))) \n",
        "model.add(Dense(32, activation = 'relu'))\n",
        "model.add(Dense(64, activation = 'relu'))\n",
        "model.add(Dense(128, activation = 'relu'))\n",
        "model.add(Dropout(0.1)) # we will apply Dropout for regularization to fight over-fitting\n",
        "model.add(Dense(64, activation = 'relu'))\n",
        "model.add(Dropout(0.1))\n",
        "model.add(Dense(32, activation = 'relu'))\n",
        "model.add(Dropout(0.15))\n",
        "model.add(Dense(16, activation = 'relu'))\n",
        "model.add(Dense(8, activation = 'relu'))\n",
        "model.add(Dense(1, activation = 'sigmoid'))"
      ],
      "metadata": {
        "id": "OJ421UBB6dFT"
      },
      "execution_count": null,
      "outputs": []
    },
    {
      "cell_type": "code",
      "source": [
        "model.summary()"
      ],
      "metadata": {
        "colab": {
          "base_uri": "https://localhost:8080/"
        },
        "id": "1a2smjuR8Een",
        "outputId": "f90a74c1-ebb7-4ccf-cc0b-db7208e84cce"
      },
      "execution_count": null,
      "outputs": [
        {
          "output_type": "stream",
          "name": "stdout",
          "text": [
            "Model: \"sequential_3\"\n",
            "_________________________________________________________________\n",
            " Layer (type)                Output Shape              Param #   \n",
            "=================================================================\n",
            " dense_24 (Dense)            (None, 32)                224       \n",
            "                                                                 \n",
            " dense_25 (Dense)            (None, 64)                2112      \n",
            "                                                                 \n",
            " dense_26 (Dense)            (None, 128)               8320      \n",
            "                                                                 \n",
            " dropout_9 (Dropout)         (None, 128)               0         \n",
            "                                                                 \n",
            " dense_27 (Dense)            (None, 64)                8256      \n",
            "                                                                 \n",
            " dropout_10 (Dropout)        (None, 64)                0         \n",
            "                                                                 \n",
            " dense_28 (Dense)            (None, 32)                2080      \n",
            "                                                                 \n",
            " dropout_11 (Dropout)        (None, 32)                0         \n",
            "                                                                 \n",
            " dense_29 (Dense)            (None, 16)                528       \n",
            "                                                                 \n",
            " dense_30 (Dense)            (None, 8)                 136       \n",
            "                                                                 \n",
            " dense_31 (Dense)            (None, 1)                 9         \n",
            "                                                                 \n",
            "=================================================================\n",
            "Total params: 21,665\n",
            "Trainable params: 21,665\n",
            "Non-trainable params: 0\n",
            "_________________________________________________________________\n"
          ]
        }
      ]
    },
    {
      "cell_type": "code",
      "source": [
        "opt = tf.optimizers.SGD(learning_rate=0.01)\n",
        "model.compile(loss='binary_crossentropy', optimizer=opt, metrics=['accuracy'])\n",
        "\n",
        "epochs = 50\n",
        "batch_size = 32\n",
        "history = model.fit(xtrain, ytrain, batch_size = batch_size, verbose = 2, epochs = epochs, validation_data = (xtest, ytest))"
      ],
      "metadata": {
        "id": "LMRFHeY98QMX",
        "colab": {
          "base_uri": "https://localhost:8080/"
        },
        "outputId": "149961d0-8f0b-4290-99ae-a1e06a6d8c3f"
      },
      "execution_count": null,
      "outputs": [
        {
          "output_type": "stream",
          "name": "stdout",
          "text": [
            "Epoch 1/50\n",
            "22/22 - 1s - loss: 0.6957 - accuracy: 0.4422 - val_loss: 0.6888 - val_accuracy: 0.5690 - 759ms/epoch - 34ms/step\n",
            "Epoch 2/50\n",
            "22/22 - 0s - loss: 0.6863 - accuracy: 0.6040 - val_loss: 0.6841 - val_accuracy: 0.5977 - 93ms/epoch - 4ms/step\n",
            "Epoch 3/50\n",
            "22/22 - 0s - loss: 0.6810 - accuracy: 0.6185 - val_loss: 0.6788 - val_accuracy: 0.5977 - 54ms/epoch - 2ms/step\n",
            "Epoch 4/50\n",
            "22/22 - 0s - loss: 0.6744 - accuracy: 0.6199 - val_loss: 0.6747 - val_accuracy: 0.5977 - 57ms/epoch - 3ms/step\n",
            "Epoch 5/50\n",
            "22/22 - 0s - loss: 0.6677 - accuracy: 0.6185 - val_loss: 0.6710 - val_accuracy: 0.5977 - 56ms/epoch - 3ms/step\n",
            "Epoch 6/50\n",
            "22/22 - 0s - loss: 0.6646 - accuracy: 0.6199 - val_loss: 0.6673 - val_accuracy: 0.5977 - 57ms/epoch - 3ms/step\n",
            "Epoch 7/50\n",
            "22/22 - 0s - loss: 0.6596 - accuracy: 0.6199 - val_loss: 0.6637 - val_accuracy: 0.5977 - 78ms/epoch - 4ms/step\n",
            "Epoch 8/50\n",
            "22/22 - 0s - loss: 0.6551 - accuracy: 0.6199 - val_loss: 0.6598 - val_accuracy: 0.5977 - 57ms/epoch - 3ms/step\n",
            "Epoch 9/50\n",
            "22/22 - 0s - loss: 0.6519 - accuracy: 0.6199 - val_loss: 0.6557 - val_accuracy: 0.5977 - 56ms/epoch - 3ms/step\n",
            "Epoch 10/50\n",
            "22/22 - 0s - loss: 0.6508 - accuracy: 0.6199 - val_loss: 0.6522 - val_accuracy: 0.5977 - 58ms/epoch - 3ms/step\n",
            "Epoch 11/50\n",
            "22/22 - 0s - loss: 0.6474 - accuracy: 0.6199 - val_loss: 0.6489 - val_accuracy: 0.5977 - 61ms/epoch - 3ms/step\n",
            "Epoch 12/50\n",
            "22/22 - 0s - loss: 0.6400 - accuracy: 0.6199 - val_loss: 0.6452 - val_accuracy: 0.5977 - 56ms/epoch - 3ms/step\n",
            "Epoch 13/50\n",
            "22/22 - 0s - loss: 0.6393 - accuracy: 0.6199 - val_loss: 0.6413 - val_accuracy: 0.5977 - 59ms/epoch - 3ms/step\n",
            "Epoch 14/50\n",
            "22/22 - 0s - loss: 0.6350 - accuracy: 0.6199 - val_loss: 0.6373 - val_accuracy: 0.5977 - 71ms/epoch - 3ms/step\n",
            "Epoch 15/50\n",
            "22/22 - 0s - loss: 0.6300 - accuracy: 0.6199 - val_loss: 0.6329 - val_accuracy: 0.5977 - 71ms/epoch - 3ms/step\n",
            "Epoch 16/50\n",
            "22/22 - 0s - loss: 0.6273 - accuracy: 0.6199 - val_loss: 0.6280 - val_accuracy: 0.5977 - 54ms/epoch - 2ms/step\n",
            "Epoch 17/50\n",
            "22/22 - 0s - loss: 0.6201 - accuracy: 0.6199 - val_loss: 0.6221 - val_accuracy: 0.5977 - 75ms/epoch - 3ms/step\n",
            "Epoch 18/50\n",
            "22/22 - 0s - loss: 0.6144 - accuracy: 0.6199 - val_loss: 0.6155 - val_accuracy: 0.5977 - 71ms/epoch - 3ms/step\n",
            "Epoch 19/50\n",
            "22/22 - 0s - loss: 0.6058 - accuracy: 0.6228 - val_loss: 0.6081 - val_accuracy: 0.5977 - 52ms/epoch - 2ms/step\n",
            "Epoch 20/50\n",
            "22/22 - 0s - loss: 0.5967 - accuracy: 0.6228 - val_loss: 0.5999 - val_accuracy: 0.5977 - 63ms/epoch - 3ms/step\n",
            "Epoch 21/50\n",
            "22/22 - 0s - loss: 0.5934 - accuracy: 0.6272 - val_loss: 0.5921 - val_accuracy: 0.5977 - 61ms/epoch - 3ms/step\n",
            "Epoch 22/50\n",
            "22/22 - 0s - loss: 0.5869 - accuracy: 0.6460 - val_loss: 0.5837 - val_accuracy: 0.6379 - 73ms/epoch - 3ms/step\n",
            "Epoch 23/50\n",
            "22/22 - 0s - loss: 0.5831 - accuracy: 0.6734 - val_loss: 0.5751 - val_accuracy: 0.7414 - 53ms/epoch - 2ms/step\n",
            "Epoch 24/50\n",
            "22/22 - 0s - loss: 0.5673 - accuracy: 0.7168 - val_loss: 0.5654 - val_accuracy: 0.7989 - 52ms/epoch - 2ms/step\n",
            "Epoch 25/50\n",
            "22/22 - 0s - loss: 0.5576 - accuracy: 0.7442 - val_loss: 0.5553 - val_accuracy: 0.8103 - 66ms/epoch - 3ms/step\n",
            "Epoch 26/50\n",
            "22/22 - 0s - loss: 0.5570 - accuracy: 0.7587 - val_loss: 0.5457 - val_accuracy: 0.8103 - 71ms/epoch - 3ms/step\n",
            "Epoch 27/50\n",
            "22/22 - 0s - loss: 0.5416 - accuracy: 0.8006 - val_loss: 0.5345 - val_accuracy: 0.8046 - 67ms/epoch - 3ms/step\n",
            "Epoch 28/50\n",
            "22/22 - 0s - loss: 0.5317 - accuracy: 0.7832 - val_loss: 0.5246 - val_accuracy: 0.7989 - 60ms/epoch - 3ms/step\n",
            "Epoch 29/50\n",
            "22/22 - 0s - loss: 0.5239 - accuracy: 0.7803 - val_loss: 0.5150 - val_accuracy: 0.8161 - 62ms/epoch - 3ms/step\n",
            "Epoch 30/50\n",
            "22/22 - 0s - loss: 0.5151 - accuracy: 0.7934 - val_loss: 0.5072 - val_accuracy: 0.8161 - 56ms/epoch - 3ms/step\n",
            "Epoch 31/50\n",
            "22/22 - 0s - loss: 0.5049 - accuracy: 0.7934 - val_loss: 0.4996 - val_accuracy: 0.8218 - 56ms/epoch - 3ms/step\n",
            "Epoch 32/50\n",
            "22/22 - 0s - loss: 0.4996 - accuracy: 0.7977 - val_loss: 0.4924 - val_accuracy: 0.8218 - 69ms/epoch - 3ms/step\n",
            "Epoch 33/50\n",
            "22/22 - 0s - loss: 0.4834 - accuracy: 0.8107 - val_loss: 0.4847 - val_accuracy: 0.8218 - 60ms/epoch - 3ms/step\n",
            "Epoch 34/50\n",
            "22/22 - 0s - loss: 0.4781 - accuracy: 0.8194 - val_loss: 0.4753 - val_accuracy: 0.8333 - 52ms/epoch - 2ms/step\n",
            "Epoch 35/50\n",
            "22/22 - 0s - loss: 0.4736 - accuracy: 0.8049 - val_loss: 0.4692 - val_accuracy: 0.8333 - 49ms/epoch - 2ms/step\n",
            "Epoch 36/50\n",
            "22/22 - 0s - loss: 0.4736 - accuracy: 0.8078 - val_loss: 0.4671 - val_accuracy: 0.8218 - 51ms/epoch - 2ms/step\n",
            "Epoch 37/50\n",
            "22/22 - 0s - loss: 0.4681 - accuracy: 0.8064 - val_loss: 0.4605 - val_accuracy: 0.8276 - 67ms/epoch - 3ms/step\n",
            "Epoch 38/50\n",
            "22/22 - 0s - loss: 0.4660 - accuracy: 0.7977 - val_loss: 0.4594 - val_accuracy: 0.8161 - 60ms/epoch - 3ms/step\n",
            "Epoch 39/50\n",
            "22/22 - 0s - loss: 0.4608 - accuracy: 0.8092 - val_loss: 0.4532 - val_accuracy: 0.8161 - 53ms/epoch - 2ms/step\n",
            "Epoch 40/50\n",
            "22/22 - 0s - loss: 0.4624 - accuracy: 0.7962 - val_loss: 0.4525 - val_accuracy: 0.7989 - 70ms/epoch - 3ms/step\n",
            "Epoch 41/50\n",
            "22/22 - 0s - loss: 0.4571 - accuracy: 0.8092 - val_loss: 0.4487 - val_accuracy: 0.8103 - 62ms/epoch - 3ms/step\n",
            "Epoch 42/50\n",
            "22/22 - 0s - loss: 0.4470 - accuracy: 0.8107 - val_loss: 0.4482 - val_accuracy: 0.8046 - 82ms/epoch - 4ms/step\n",
            "Epoch 43/50\n",
            "22/22 - 0s - loss: 0.4488 - accuracy: 0.8136 - val_loss: 0.4484 - val_accuracy: 0.7989 - 54ms/epoch - 2ms/step\n",
            "Epoch 44/50\n",
            "22/22 - 0s - loss: 0.4376 - accuracy: 0.8150 - val_loss: 0.4440 - val_accuracy: 0.8103 - 54ms/epoch - 2ms/step\n",
            "Epoch 45/50\n",
            "22/22 - 0s - loss: 0.4527 - accuracy: 0.8064 - val_loss: 0.4405 - val_accuracy: 0.8103 - 67ms/epoch - 3ms/step\n",
            "Epoch 46/50\n",
            "22/22 - 0s - loss: 0.4425 - accuracy: 0.8064 - val_loss: 0.4425 - val_accuracy: 0.7989 - 53ms/epoch - 2ms/step\n",
            "Epoch 47/50\n",
            "22/22 - 0s - loss: 0.4458 - accuracy: 0.8107 - val_loss: 0.4367 - val_accuracy: 0.8218 - 60ms/epoch - 3ms/step\n",
            "Epoch 48/50\n",
            "22/22 - 0s - loss: 0.4413 - accuracy: 0.8150 - val_loss: 0.4358 - val_accuracy: 0.8103 - 58ms/epoch - 3ms/step\n",
            "Epoch 49/50\n",
            "22/22 - 0s - loss: 0.4309 - accuracy: 0.8107 - val_loss: 0.4387 - val_accuracy: 0.8103 - 65ms/epoch - 3ms/step\n",
            "Epoch 50/50\n",
            "22/22 - 0s - loss: 0.4369 - accuracy: 0.8165 - val_loss: 0.4369 - val_accuracy: 0.8103 - 68ms/epoch - 3ms/step\n"
          ]
        }
      ]
    },
    {
      "cell_type": "code",
      "source": [
        "# History for loss\n",
        "\n",
        "loss_train = history.history['loss']\n",
        "loss_test = history.history['val_loss']\n",
        "loss_train_curve = plt.plot(np.arange(1,51,1), loss_train, label = 'loss_train')\n",
        "loss_test_curve = plt.plot(np.arange(1,51,1), loss_test, label = 'loss_test')\n",
        "\n",
        "plt.legend()\n",
        "\n",
        "plt.show()\n",
        "\n",
        "# History for accuracy\n",
        "\n",
        "accuracy_train = history.history['accuracy']\n",
        "accuracy_test = history.history['val_accuracy']\n",
        "accuracy_train_curve = plt.plot(np.arange(1,51,1), accuracy_train, label = 'accuracy_train')\n",
        "accuracy_test_curve = plt.plot(np.arange(1,51,1), accuracy_test, label = 'accuracy_test')\n",
        "\n",
        "plt.legend()\n",
        "\n",
        "plt.show()"
      ],
      "metadata": {
        "colab": {
          "base_uri": "https://localhost:8080/",
          "height": 516
        },
        "id": "7QDjS_VGAIp-",
        "outputId": "5ae1f242-e174-4033-e84d-d3d270439ad7"
      },
      "execution_count": null,
      "outputs": [
        {
          "output_type": "display_data",
          "data": {
            "text/plain": [
              "<Figure size 432x288 with 1 Axes>"
            ],
            "image/png": "[encoded data removed]"
          },
          "metadata": {
            "needs_background": "light"
          }
        },
        {
          "output_type": "display_data",
          "data": {
            "text/plain": [
              "<Figure size 432x288 with 1 Axes>"
            ],
            "image/png": "[encoded data removed]"
          },
          "metadata": {
            "needs_background": "light"
          }
        }
      ]
    },
    {
      "cell_type": "code",
      "source": [
        "y_pred_nn = model.predict(xtest)\n",
        "# since sigmoid activation function in output layer \n",
        "y_pred_nn = (y_pred_nn > 0.5).astype(int)"
      ],
      "metadata": {
        "colab": {
          "base_uri": "https://localhost:8080/"
        },
        "id": "8ZQ2oyhm9w0M",
        "outputId": "8815fca4-3cef-48ed-e533-7e64cbad3453"
      },
      "execution_count": null,
      "outputs": [
        {
          "output_type": "stream",
          "name": "stdout",
          "text": [
            "6/6 [==============================] - 0s 2ms/step\n"
          ]
        }
      ]
    },
    {
      "cell_type": "code",
      "source": [
        "from sklearn import metrics\n",
        "\n",
        "accuracy_nn = metrics.accuracy_score(ytest, y_pred_nn)\n",
        "print(\"Accuracy for NN: \", round(accuracy_nn*100,2))"
      ],
      "metadata": {
        "colab": {
          "base_uri": "https://localhost:8080/"
        },
        "id": "bLEZtbGf-Hat",
        "outputId": "b190d40b-4705-4b9b-81c7-1f20beb5e1c8"
      },
      "execution_count": null,
      "outputs": [
        {
          "output_type": "stream",
          "name": "stdout",
          "text": [
            "Accuracy for NN:  81.03\n"
          ]
        }
      ]
    },
    {
      "cell_type": "code",
      "source": [
        "# confusion matrix \n",
        "from sklearn.metrics import confusion_matrix\n",
        "cm_nn = confusion_matrix(ytest, y_pred_nn)\n",
        "\n",
        "print(\"Confusion Matrix: \\n\", cm_nn)"
      ],
      "metadata": {
        "id": "bv-Zv7sY96AC",
        "colab": {
          "base_uri": "https://localhost:8080/"
        },
        "outputId": "1416d1e2-57f3-40ef-858a-993687b7c18f"
      },
      "execution_count": null,
      "outputs": [
        {
          "output_type": "stream",
          "name": "stdout",
          "text": [
            "Confusion Matrix: \n",
            " [[91 13]\n",
            " [20 50]]\n"
          ]
        }
      ]
    },
    {
      "cell_type": "code",
      "source": [
        "# classification report \n",
        "from sklearn.metrics import classification_report\n",
        "target_names = ['not alive', 'alive']\n",
        "cr_nn = classification_report(ytest, y_pred_nn, target_names=target_names)\n",
        "\n",
        "print(\"Classification Report: \\n\", cr_nn)"
      ],
      "metadata": {
        "colab": {
          "base_uri": "https://localhost:8080/"
        },
        "id": "fvOGPYGP_3DU",
        "outputId": "aadcc7c5-f90f-41fc-e518-cbaae5d84046"
      },
      "execution_count": null,
      "outputs": [
        {
          "output_type": "stream",
          "name": "stdout",
          "text": [
            "Classification Report: \n",
            "               precision    recall  f1-score   support\n",
            "\n",
            "   not alive       0.82      0.88      0.85       104\n",
            "       alive       0.79      0.71      0.75        70\n",
            "\n",
            "    accuracy                           0.81       174\n",
            "   macro avg       0.81      0.79      0.80       174\n",
            "weighted avg       0.81      0.81      0.81       174\n",
            "\n"
          ]
        }
      ]
    },
    {
      "cell_type": "markdown",
      "source": [
        "## Part 6: Model evaluation\n",
        "\n",
        "###### Code adapted from https://www.kaggle.com/code/vinothan/titanic-model-with-90-accuracy\n"
      ],
      "metadata": {
        "id": "ol0ct1qkMzBf"
      }
    },
    {
      "cell_type": "code",
      "source": [
        "# comparison of each model by their accuracy\n",
        "models = pd.DataFrame({\n",
        "    'Model': ['Logistic Regression', 'KNN', 'Decision Tree' , \"Neural Networks\"],\n",
        "    'Accuracy': [accuracy_log, accuracy_knn, accuracy_dtree, accuracy_nn]})\n",
        "models.sort_values(by='Accuracy',ascending=False)"
      ],
      "metadata": {
        "colab": {
          "base_uri": "https://localhost:8080/",
          "height": 175
        },
        "id": "f3ZhO0JXPqLe",
        "outputId": "00ff22b6-0582-4fa1-e132-64ae47fe76f4"
      },
      "execution_count": null,
      "outputs": [
        {
          "output_type": "execute_result",
          "data": {
            "text/plain": [
              "                 Model  Accuracy\n",
              "1                  KNN  0.839080\n",
              "3      Neural Networks  0.810345\n",
              "0  Logistic Regression  0.804598\n",
              "2        Decision Tree  0.758621"
            ],
            "text/html": [
              "\n",
              "  <div id=\"df-27d29e3f-e818-454a-a5af-97d5d6feaaa2\">\n",
              "    <div class=\"colab-df-container\">\n",
              "      <div>\n",
              "<style scoped>\n",
              "    .dataframe tbody tr th:only-of-type {\n",
              "        vertical-align: middle;\n",
              "    }\n",
              "\n",
              "    .dataframe tbody tr th {\n",
              "        vertical-align: top;\n",
              "    }\n",
              "\n",
              "    .dataframe thead th {\n",
              "        text-align: right;\n",
              "    }\n",
              "</style>\n",
              "<table border=\"1\" class=\"dataframe\">\n",
              "  <thead>\n",
              "    <tr style=\"text-align: right;\">\n",
              "      <th></th>\n",
              "      <th>Model</th>\n",
              "      <th>Accuracy</th>\n",
              "    </tr>\n",
              "  </thead>\n",
              "  <tbody>\n",
              "    <tr>\n",
              "      <th>1</th>\n",
              "      <td>KNN</td>\n",
              "      <td>0.839080</td>\n",
              "    </tr>\n",
              "    <tr>\n",
              "      <th>3</th>\n",
              "      <td>Neural Networks</td>\n",
              "      <td>0.810345</td>\n",
              "    </tr>\n",
              "    <tr>\n",
              "      <th>0</th>\n",
              "      <td>Logistic Regression</td>\n",
              "      <td>0.804598</td>\n",
              "    </tr>\n",
              "    <tr>\n",
              "      <th>2</th>\n",
              "      <td>Decision Tree</td>\n",
              "      <td>0.758621</td>\n",
              "    </tr>\n",
              "  </tbody>\n",
              "</table>\n",
              "</div>\n",
              "      <button class=\"colab-df-convert\" onclick=\"convertToInteractive('df-27d29e3f-e818-454a-a5af-97d5d6feaaa2')\"\n",
              "              title=\"Convert this dataframe to an interactive table.\"\n",
              "              style=\"display:none;\">\n",
              "        \n",
              "  <svg xmlns=\"http://www.w3.org/2000/svg\" height=\"24px\"viewBox=\"0 0 24 24\"\n",
              "       width=\"24px\">\n",
              "    <path d=\"M0 0h24v24H0V0z\" fill=\"none\"/>\n",
              "    <path d=\"M18.56 5.44l.94 2.06.94-2.06 2.06-.94-2.06-.94-.94-2.06-.94 2.06-2.06.94zm-11 1L8.5 8.5l.94-2.06 2.06-.94-2.06-.94L8.5 2.5l-.94 2.06-2.06.94zm10 10l.94 2.06.94-2.06 2.06-.94-2.06-.94-.94-2.06-.94 2.06-2.06.94z\"/><path d=\"M17.41 7.96l-1.37-1.37c-.4-.4-.92-.59-1.43-.59-.52 0-1.04.2-1.43.59L10.3 9.45l-7.72 7.72c-.78.78-.78 2.05 0 2.83L4 21.41c.39.39.9.59 1.41.59.51 0 1.02-.2 1.41-.59l7.78-7.78 2.81-2.81c.8-.78.8-2.07 0-2.86zM5.41 20L4 18.59l7.72-7.72 1.47 1.35L5.41 20z\"/>\n",
              "  </svg>\n",
              "      </button>\n",
              "      \n",
              "  <style>\n",
              "    .colab-df-container {\n",
              "      display:flex;\n",
              "      flex-wrap:wrap;\n",
              "      gap: 12px;\n",
              "    }\n",
              "\n",
              "    .colab-df-convert {\n",
              "      background-color: #E8F0FE;\n",
              "      border: none;\n",
              "      border-radius: 50%;\n",
              "      cursor: pointer;\n",
              "      display: none;\n",
              "      fill: #1967D2;\n",
              "      height: 32px;\n",
              "      padding: 0 0 0 0;\n",
              "      width: 32px;\n",
              "    }\n",
              "\n",
              "    .colab-df-convert:hover {\n",
              "      background-color: #E2EBFA;\n",
              "      box-shadow: 0px 1px 2px rgba(60, 64, 67, 0.3), 0px 1px 3px 1px rgba(60, 64, 67, 0.15);\n",
              "      fill: #174EA6;\n",
              "    }\n",
              "\n",
              "    [theme=dark] .colab-df-convert {\n",
              "      background-color: #3B4455;\n",
              "      fill: #D2E3FC;\n",
              "    }\n",
              "\n",
              "    [theme=dark] .colab-df-convert:hover {\n",
              "      background-color: #434B5C;\n",
              "      box-shadow: 0px 1px 3px 1px rgba(0, 0, 0, 0.15);\n",
              "      filter: drop-shadow(0px 1px 2px rgba(0, 0, 0, 0.3));\n",
              "      fill: #FFFFFF;\n",
              "    }\n",
              "  </style>\n",
              "\n",
              "      <script>\n",
              "        const buttonEl =\n",
              "          document.querySelector('#df-27d29e3f-e818-454a-a5af-97d5d6feaaa2 button.colab-df-convert');\n",
              "        buttonEl.style.display =\n",
              "          google.colab.kernel.accessAllowed ? 'block' : 'none';\n",
              "\n",
              "        async function convertToInteractive(key) {\n",
              "          const element = document.querySelector('#df-27d29e3f-e818-454a-a5af-97d5d6feaaa2');\n",
              "          const dataTable =\n",
              "            await google.colab.kernel.invokeFunction('convertToInteractive',\n",
              "                                                     [key], {});\n",
              "          if (!dataTable) return;\n",
              "\n",
              "          const docLinkHtml = 'Like what you see? Visit the ' +\n",
              "            '<a target=\"_blank\" href=https://colab.research.google.com/notebooks/data_table.ipynb>data table notebook</a>'\n",
              "            + ' to learn more about interactive tables.';\n",
              "          element.innerHTML = '';\n",
              "          dataTable['output_type'] = 'display_data';\n",
              "          await google.colab.output.renderOutput(dataTable, element);\n",
              "          const docLink = document.createElement('div');\n",
              "          docLink.innerHTML = docLinkHtml;\n",
              "          element.appendChild(docLink);\n",
              "        }\n",
              "      </script>\n",
              "    </div>\n",
              "  </div>\n",
              "  "
            ]
          },
          "metadata": {},
          "execution_count": 159
        }
      ]
    },
    {
      "cell_type": "code",
      "source": [
        "# visualisation of the models by their accuracy\n",
        "plt.figure(figsize=(8,6))\n",
        "plt.bar(['Log Regression', 'KNN','Decision Tree', 'Neural Networks'], [accuracy_log-0.7, accuracy_knn-0.7, accuracy_dtree-0.7, accuracy_nn-0.7], width = 0.4, bottom = 0.7)\n",
        "plt.title('Comparing the Accuracy of 4 Models')\n",
        "plt.xlabel('Models')\n",
        "plt.ylabel(\"Accuracy\")\n",
        "plt.show()"
      ],
      "metadata": {
        "colab": {
          "base_uri": "https://localhost:8080/",
          "height": 404
        },
        "id": "EkR1jOWBQMqI",
        "outputId": "4c2a7132-8d51-4970-ca3e-b64b403606f7"
      },
      "execution_count": null,
      "outputs": [
        {
          "output_type": "display_data",
          "data": {
            "text/plain": [
              "<Figure size 576x432 with 1 Axes>"
            ],
            "image/png": "[encoded data removed]"
          },
          "metadata": {
            "needs_background": "light"
          }
        }
      ]
    }
  ]
}